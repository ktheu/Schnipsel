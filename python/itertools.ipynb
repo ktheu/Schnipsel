{
 "cells": [
  {
   "cell_type": "code",
   "execution_count": 1,
   "metadata": {},
   "outputs": [],
   "source": [
    "from itertools import *"
   ]
  },
  {
   "cell_type": "code",
   "execution_count": 2,
   "metadata": {},
   "outputs": [
    {
     "name": "stdout",
     "output_type": "stream",
     "text": [
      "3 4\n",
      "3 7\n",
      "3 9\n",
      "4 7\n",
      "4 9\n",
      "7 9\n"
     ]
    }
   ],
   "source": [
    "a = [3, 4, 7, 9]\n",
    "for x,y in combinations(a,2):\n",
    "    print(x,y)"
   ]
  },
  {
   "cell_type": "code",
   "execution_count": 3,
   "metadata": {},
   "outputs": [
    {
     "name": "stdout",
     "output_type": "stream",
     "text": [
      "(1, 2, 3)\n",
      "(1, 2, 4)\n",
      "(1, 2, 5)\n",
      "(1, 3, 4)\n",
      "(1, 3, 5)\n",
      "(1, 4, 5)\n",
      "(2, 3, 4)\n",
      "(2, 3, 5)\n",
      "(2, 4, 5)\n",
      "(3, 4, 5)\n"
     ]
    }
   ],
   "source": [
    "for x in combinations(range(1,6),3):\n",
    "    print(x)"
   ]
  },
  {
   "cell_type": "code",
   "execution_count": 4,
   "metadata": {},
   "outputs": [
    {
     "name": "stdout",
     "output_type": "stream",
     "text": [
      "(1, 5, 2, 9)\n",
      "(1, 5, 9, 2)\n",
      "(1, 2, 5, 9)\n",
      "(1, 2, 9, 5)\n",
      "(1, 9, 5, 2)\n",
      "(1, 9, 2, 5)\n",
      "(5, 1, 2, 9)\n",
      "(5, 1, 9, 2)\n",
      "(5, 2, 1, 9)\n",
      "(5, 2, 9, 1)\n",
      "(5, 9, 1, 2)\n",
      "(5, 9, 2, 1)\n",
      "(2, 1, 5, 9)\n",
      "(2, 1, 9, 5)\n",
      "(2, 5, 1, 9)\n",
      "(2, 5, 9, 1)\n",
      "(2, 9, 1, 5)\n",
      "(2, 9, 5, 1)\n",
      "(9, 1, 5, 2)\n",
      "(9, 1, 2, 5)\n",
      "(9, 5, 1, 2)\n",
      "(9, 5, 2, 1)\n",
      "(9, 2, 1, 5)\n",
      "(9, 2, 5, 1)\n"
     ]
    }
   ],
   "source": [
    "for x in permutations([1,5,2,9]):\n",
    "    print(x)"
   ]
  },
  {
   "cell_type": "code",
   "execution_count": null,
   "metadata": {},
   "outputs": [],
   "source": []
  }
 ],
 "metadata": {
  "kernelspec": {
   "display_name": "Python 3",
   "language": "python",
   "name": "python3"
  },
  "language_info": {
   "codemirror_mode": {
    "name": "ipython",
    "version": 3
   },
   "file_extension": ".py",
   "mimetype": "text/x-python",
   "name": "python",
   "nbconvert_exporter": "python",
   "pygments_lexer": "ipython3",
   "version": "3.7.4"
  }
 },
 "nbformat": 4,
 "nbformat_minor": 4
}
